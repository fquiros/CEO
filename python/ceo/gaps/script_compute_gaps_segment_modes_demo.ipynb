{
 "cells": [
  {
   "cell_type": "code",
   "execution_count": 9,
   "id": "d928a60e-50a4-4f62-9f7c-4f699fa7210f",
   "metadata": {},
   "outputs": [],
   "source": [
    "import numpy as np\n",
    "from script_compute_gaps_segment_modes import compute_gaps_segment_modes\n",
    "from gaps_utilities import load_dictionary_from_file\n",
    "from telescope_simulator import telescope_simulator\n",
    "\n",
    "#----- Visualization\n",
    "import matplotlib.pyplot as plt\n",
    "%matplotlib inline"
   ]
  },
  {
   "cell_type": "markdown",
   "id": "190cd82c-7a6a-4691-a562-32008c30124e",
   "metadata": {},
   "source": [
    "# Compute GAPS segment modes\n",
    "Launch script to compute GAPS segment modal basis."
   ]
  },
  {
   "cell_type": "code",
   "execution_count": 2,
   "id": "2592d761-6d3b-424a-8777-9fc77b8f6a8d",
   "metadata": {},
   "outputs": [
    {
     "name": "stdout",
     "output_type": "stream",
     "text": [
      "--> Segment KL modes computed successfully.\n",
      "--> Initializing GMT pupil.....\n",
      "--> Initializing MEMS model.....\n",
      "Completed creation of influence function cube of size 460 x 460 x 2040.\n",
      "--> Initializing PTT array model.....\n",
      "Done! .....\n",
      "Number of MEMS selected actuators: 1527\n",
      "--> Computing DM influence matrices.....\n",
      "DMmat condition number: 27.102474\n",
      "--> Segment modes fitted by the DM computed successfully.\n",
      "--> Computing PTT influence matrices.....\n",
      "PTTmat condition number: 1.112952\n",
      "--> Segment piston, tip, and tilt fitted by the PTT array only computed successfully.\n",
      "--> Computing Merged influence matrices.....\n",
      "--> Segment modes fitted by the DM + PTT array computed successfully.\n",
      "--> Re-orthogonalizing...\n",
      "--> GAPS segment modes computed successfully.\n",
      "Saving to file /home/ubuntu/CEO/python/ceo/gaps/data/M2C/KLF_M2C_20250520_v0.npz\n"
     ]
    }
   ],
   "source": [
    "compute_gaps_segment_modes()"
   ]
  },
  {
   "cell_type": "markdown",
   "id": "d7654198-dbe9-409b-9edb-570e0c11097d",
   "metadata": {},
   "source": [
    "# Restore M2C and GAPS model parameters\n",
    "Restore from saved file and use parameters to build GAPS models."
   ]
  },
  {
   "cell_type": "code",
   "execution_count": 3,
   "id": "b1e7464d-3565-4a0f-9e0d-c522e83105dd",
   "metadata": {},
   "outputs": [
    {
     "name": "stdout",
     "output_type": "stream",
     "text": [
      "Restoring data from file: KLF_M2C_20250520_v0.npz\n"
     ]
    }
   ],
   "source": [
    "fname = \"/home/ubuntu/CEO/python/ceo/gaps/data/M2C/KLF_M2C_20250520_v0.npz\"\n",
    "data = load_dictionary_from_file(fname)"
   ]
  },
  {
   "cell_type": "code",
   "execution_count": 4,
   "id": "e82be67e-f591-44ec-aa00-18a13a8b2e08",
   "metadata": {},
   "outputs": [
    {
     "name": "stdout",
     "output_type": "stream",
     "text": [
      "--> Initializing GMT pupil.....\n",
      "--> Initializing MEMS model.....\n",
      "Completed creation of influence function cube of size 460 x 460 x 2040.\n",
      "--> Initializing PTT array model.....\n",
      "Done! .....\n"
     ]
    }
   ],
   "source": [
    "gaps = telescope_simulator(**data['array_params'], **data['gaps_params'])"
   ]
  },
  {
   "cell_type": "code",
   "execution_count": 15,
   "id": "a757bc1b-e240-4084-861a-fb65a5a7300e",
   "metadata": {},
   "outputs": [
    {
     "data": {
      "text/plain": [
       "(1548, 153, 7)"
      ]
     },
     "execution_count": 15,
     "metadata": {},
     "output_type": "execute_result"
    }
   ],
   "source": [
    "KLF_M2C = data['KLF_M2C']\n",
    "validacts = data['dm_valid_acts']\n",
    "nPx = data['array_params']['array_size_pix']\n",
    "KLF_M2C.shape"
   ]
  },
  {
   "cell_type": "markdown",
   "id": "57a01d45-b1b1-4ff2-b0b1-bfac7c2b5772",
   "metadata": {},
   "source": [
    "## Visualize a mode as defined in the M2C matrix"
   ]
  },
  {
   "cell_type": "markdown",
   "id": "7383d286-8288-4f4f-a793-58343672969a",
   "metadata": {},
   "source": [
    "Using the ``get_wf`` method"
   ]
  },
  {
   "cell_type": "code",
   "execution_count": 13,
   "id": "74aef322-6dd2-418e-ac41-3f418a689915",
   "metadata": {},
   "outputs": [
    {
     "name": "stdout",
     "output_type": "stream",
     "text": [
      "CPU times: user 1.26 s, sys: 1.44 s, total: 2.71 s\n",
      "Wall time: 2.7 s\n"
     ]
    },
    {
     "data": {
      "text/plain": [
       "Text(0.5, 1.0, 'S2, KL91')"
      ]
     },
     "execution_count": 13,
     "metadata": {},
     "output_type": "execute_result"
    },
    {
     "data": {
      "image/png": "[encoded data removed]",
      "text/plain": [
       "<Figure size 432x288 with 2 Axes>"
      ]
     },
     "metadata": {
      "needs_background": "light"
     },
     "output_type": "display_data"
    }
   ],
   "source": [
    "%%time\n",
    "\n",
    "segId = 1\n",
    "jj = 90  #--> choose mode number\n",
    "\n",
    "pttvec, dmvec = np.split(KLF_M2C[:,jj,segId], [21])\n",
    "dm_command = np.zeros(gaps.mems2k.n_acts)\n",
    "dm_command[validacts] = dmvec\n",
    "fitted_mode = gaps.get_wf(dm_command=dm_command, ptt_command=pttvec)\n",
    "\n",
    "fig, ax2 = plt.subplots()\n",
    "im2 = ax2.imshow(fitted_mode, origin='lower')\n",
    "clb2 = fig.colorbar(im2, ax=ax2)\n",
    "ax2.set_title('S%d, KL%d'%(segId+1, jj+1))"
   ]
  },
  {
   "cell_type": "markdown",
   "id": "f0e8a349-616c-4697-a4a2-ef879abcec36",
   "metadata": {},
   "source": [
    "Using influence matrices. This method is more efficient since only valid points and valid DoFs are used in the computation."
   ]
  },
  {
   "cell_type": "code",
   "execution_count": 14,
   "id": "dfff5eab-34dd-47c6-ac23-62cbfc28cd52",
   "metadata": {},
   "outputs": [
    {
     "name": "stdout",
     "output_type": "stream",
     "text": [
      "--> Computing DM influence matrices.....\n",
      "DMmat condition number: 27.102474\n",
      "--> Computing PTT influence matrices.....\n",
      "PTTmat condition number: 1.112952\n"
     ]
    }
   ],
   "source": [
    "DMmat, _ , _ = gaps.get_dm_influence_matrices(validacts)\n",
    "PTTmat, _ , _ = gaps.get_ptt_influence_matrices()"
   ]
  },
  {
   "cell_type": "code",
   "execution_count": 18,
   "id": "d9a82e35-e513-4137-a3ba-8f82b4524781",
   "metadata": {},
   "outputs": [
    {
     "name": "stdout",
     "output_type": "stream",
     "text": [
      "CPU times: user 652 ms, sys: 356 ms, total: 1.01 s\n",
      "Wall time: 129 ms\n"
     ]
    },
    {
     "data": {
      "text/plain": [
       "Text(0.5, 1.0, 'S2, KL91')"
      ]
     },
     "execution_count": 18,
     "metadata": {},
     "output_type": "execute_result"
    },
    {
     "data": {
      "image/png": "[encoded data removed]",
      "text/plain": [
       "<Figure size 432x288 with 2 Axes>"
      ]
     },
     "metadata": {
      "needs_background": "light"
     },
     "output_type": "display_data"
    }
   ],
   "source": [
    "%%time\n",
    "\n",
    "segId = 1\n",
    "jj = 90  #--> choose mode number\n",
    "\n",
    "_fitted_mode_ = np.zeros(nPx**2)\n",
    "pttvec, dmvec = np.split(KLF_M2C[:,jj,segId], [21])\n",
    "_fitted_mode_[gaps.pup.GMTmask] = PTTmat @ pttvec + DMmat @ dmvec\n",
    "\n",
    "fig, ax2 = plt.subplots()\n",
    "im2 = ax2.imshow(_fitted_mode_.reshape((nPx,nPx)), origin='lower')\n",
    "clb2 = fig.colorbar(im2, ax=ax2)\n",
    "ax2.set_title('S%d, KL%d'%(segId+1, jj+1))"
   ]
  },
  {
   "cell_type": "code",
   "execution_count": null,
   "id": "8100994d-f2b8-492d-b9b6-80c66d73e79d",
   "metadata": {},
   "outputs": [],
   "source": []
  }
 ],
 "metadata": {
  "kernelspec": {
   "display_name": "Python 3",
   "language": "python",
   "name": "python3"
  },
  "language_info": {
   "codemirror_mode": {
    "name": "ipython",
    "version": 3
   },
   "file_extension": ".py",
   "mimetype": "text/x-python",
   "name": "python",
   "nbconvert_exporter": "python",
   "pygments_lexer": "ipython3",
   "version": "3.8.8"
  }
 },
 "nbformat": 4,
 "nbformat_minor": 5
}

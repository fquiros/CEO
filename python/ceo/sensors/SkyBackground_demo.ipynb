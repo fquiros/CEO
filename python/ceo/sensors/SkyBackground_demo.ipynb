{
 "cells": [
  {
   "cell_type": "code",
   "execution_count": 1,
   "id": "4217fb3e-bfa3-4a09-889c-cbf89d3251d8",
   "metadata": {},
   "outputs": [
    {
     "name": "stdout",
     "output_type": "stream",
     "text": [
      "/home/ubuntu/CEO/python/ceo/zemax\n"
     ]
    }
   ],
   "source": [
    "from ceo import SkyBackground\n",
    "\n",
    "import numpy as np\n",
    "import matplotlib.pyplot as plt"
   ]
  },
  {
   "cell_type": "markdown",
   "id": "306a3498-dbb6-4d9d-9800-97a297cfd963",
   "metadata": {},
   "source": [
    "# ESO's sky background model\n",
    "The sky background class reutilizes the *eso_sky_calc* in the **arte** package:\n",
    "https://arte.readthedocs.io/en/latest/photometry.html\n",
    "\n",
    "The above is a wrapper to the official ESO SkyCalc Command Line Interface:\n",
    "https://www.eso.org/observing/etc/doc/skycalc/helpskycalccli.html\n",
    "\n",
    "Information of all input parameters can be found above."
   ]
  },
  {
   "cell_type": "markdown",
   "id": "1be2726b-efae-45a2-ac3c-b2efb03dd028",
   "metadata": {},
   "source": [
    "### Get a SkyBackground object\n",
    "The parameters are contained in the dictionary *_params*"
   ]
  },
  {
   "cell_type": "code",
   "execution_count": 2,
   "id": "eaa7d7b9-4426-45ce-9d0b-e5733fcc4a8a",
   "metadata": {},
   "outputs": [],
   "source": [
    "sky = SkyBackground()"
   ]
  },
  {
   "cell_type": "code",
   "execution_count": 4,
   "id": "29e93818-f7ca-404b-a1a8-bc8b5737130e",
   "metadata": {},
   "outputs": [
    {
     "data": {
      "text/plain": [
       "{'airmass': 1.155,\n",
       " 'pwv_mode': 'season',\n",
       " 'season': 0,\n",
       " 'time': 0,\n",
       " 'pwv': 2.5,\n",
       " 'msolflux': 130.0,\n",
       " 'incl_moon': 'Y',\n",
       " 'moon_sun_sep': 120.0,\n",
       " 'moon_target_sep': 30.0,\n",
       " 'moon_alt': 45.0,\n",
       " 'moon_earth_dist': 1.0,\n",
       " 'incl_starlight': 'Y',\n",
       " 'incl_zodiacal': 'Y',\n",
       " 'ecl_lon': 135.0,\n",
       " 'ecl_lat': 90.0,\n",
       " 'incl_loweratm': 'Y',\n",
       " 'incl_upperatm': 'Y',\n",
       " 'incl_airglow': 'Y',\n",
       " 'incl_therm': 'N',\n",
       " 'therm_t1': 0.0,\n",
       " 'therm_e1': 0.0,\n",
       " 'therm_t2': 0.0,\n",
       " 'therm_e2': 0.0,\n",
       " 'therm_t3': 0.0,\n",
       " 'therm_e3': 0.0,\n",
       " 'vacair': 'vac',\n",
       " 'wmin': 300.0,\n",
       " 'wmax': 5000.0,\n",
       " 'wgrid_mode': 'fixed_wavelength_step',\n",
       " 'wdelta': 10,\n",
       " 'wres': 20000,\n",
       " 'lsf_type': 'none',\n",
       " 'lsf_gauss_fwhm': 5.0,\n",
       " 'lsf_boxcar_fwhm': 5.0,\n",
       " 'observatory': 'lasilla',\n",
       " 'temp_flag': 1}"
      ]
     },
     "execution_count": 4,
     "metadata": {},
     "output_type": "execute_result"
    }
   ],
   "source": [
    "# List parameters\n",
    "sky._params"
   ]
  },
  {
   "cell_type": "markdown",
   "id": "4d8816dc-0b1a-4696-b5f3-8c3e0c33b4a9",
   "metadata": {},
   "source": [
    "### Change parameters \n",
    "Change parameters as if they were properties of the sky object (do not tamper with the *._params* dictionary directly)"
   ]
  },
  {
   "cell_type": "code",
   "execution_count": 5,
   "id": "a8ce0564-d30c-461f-91e2-792656727301",
   "metadata": {},
   "outputs": [],
   "source": [
    "sky.moon_alt = 30.\n",
    "skydata = sky.skyCalc()"
   ]
  },
  {
   "cell_type": "markdown",
   "id": "615902bc-0bb2-42e1-b381-c50f11e0b07b",
   "metadata": {},
   "source": [
    "Extract and plot data"
   ]
  },
  {
   "cell_type": "code",
   "execution_count": 13,
   "id": "0f998923-94ec-4819-af60-edbd63fbf29a",
   "metadata": {},
   "outputs": [
    {
     "data": {
      "image/png": "[encoded data removed]",
      "text/plain": [
       "<Figure size 432x288 with 1 Axes>"
      ]
     },
     "metadata": {
      "needs_background": "light"
     },
     "output_type": "display_data"
    }
   ],
   "source": [
    "plt.semilogy(skydata.lam, skydata.flux)\n",
    "plt.grid()\n",
    "plt.ylabel('ph / s / m$^2$ / $\\mu$m / arcsec$^2$', fontsize=12);\n",
    "plt.xlabel('wavelength [nm]', fontsize=12);"
   ]
  },
  {
   "cell_type": "markdown",
   "id": "9f02d428-826f-42f7-aa8d-910eea054bea",
   "metadata": {},
   "source": [
    "There is plenty more in the **skydata** provided. For details check ESO's link above."
   ]
  },
  {
   "cell_type": "code",
   "execution_count": 11,
   "id": "5cff79ea-44f1-40fe-a5ab-571a3d9985e0",
   "metadata": {},
   "outputs": [
    {
     "data": {
      "text/plain": [
       "['__class__',\n",
       " '__delattr__',\n",
       " '__dict__',\n",
       " '__dir__',\n",
       " '__doc__',\n",
       " '__eq__',\n",
       " '__format__',\n",
       " '__ge__',\n",
       " '__getattribute__',\n",
       " '__gt__',\n",
       " '__hash__',\n",
       " '__init__',\n",
       " '__init_subclass__',\n",
       " '__le__',\n",
       " '__lt__',\n",
       " '__module__',\n",
       " '__ne__',\n",
       " '__new__',\n",
       " '__reduce__',\n",
       " '__reduce_ex__',\n",
       " '__repr__',\n",
       " '__setattr__',\n",
       " '__sizeof__',\n",
       " '__str__',\n",
       " '__subclasshook__',\n",
       " '__weakref__',\n",
       " '_create_input_file',\n",
       " '_defaults',\n",
       " '_hdr',\n",
       " '_res',\n",
       " '_restore_fits',\n",
       " '_run_cli',\n",
       " '_temp_input_file_name',\n",
       " '_temp_output_file_name',\n",
       " '_u',\n",
       " 'default_values',\n",
       " 'flux',\n",
       " 'flux_ael',\n",
       " 'flux_arc',\n",
       " 'flux_sml',\n",
       " 'flux_ssl',\n",
       " 'flux_tie',\n",
       " 'flux_tme',\n",
       " 'flux_zl',\n",
       " 'lam',\n",
       " 'trans',\n",
       " 'trans_ma',\n",
       " 'trans_ms',\n",
       " 'trans_o3',\n",
       " 'trans_rs']"
      ]
     },
     "execution_count": 11,
     "metadata": {},
     "output_type": "execute_result"
    }
   ],
   "source": [
    "dir(skydata)"
   ]
  },
  {
   "cell_type": "code",
   "execution_count": null,
   "id": "3b729db7-5b27-496c-aaa6-70a49aaad634",
   "metadata": {},
   "outputs": [],
   "source": []
  }
 ],
 "metadata": {
  "kernelspec": {
   "display_name": "Python 3",
   "language": "python",
   "name": "python3"
  },
  "language_info": {
   "codemirror_mode": {
    "name": "ipython",
    "version": 3
   },
   "file_extension": ".py",
   "mimetype": "text/x-python",
   "name": "python",
   "nbconvert_exporter": "python",
   "pygments_lexer": "ipython3",
   "version": "3.8.8"
  }
 },
 "nbformat": 4,
 "nbformat_minor": 5
}

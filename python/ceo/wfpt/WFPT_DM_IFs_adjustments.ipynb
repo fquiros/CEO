{
 "cells": [
  {
   "cell_type": "code",
   "execution_count": 1,
   "metadata": {},
   "outputs": [
    {
     "name": "stdout",
     "output_type": "stream",
     "text": [
      "/home/ubuntu/CEO/python/ceo/zemax\n"
     ]
    }
   ],
   "source": [
    "import numpy as np\n",
    "from ceo.mapping import Mapping\n",
    "import matplotlib.pyplot as plt\n",
    "import os\n",
    "%matplotlib inline"
   ]
  },
  {
   "cell_type": "markdown",
   "metadata": {},
   "source": [
    "# DM1 adjustments"
   ]
  },
  {
   "cell_type": "markdown",
   "metadata": {},
   "source": [
    "## Load original .ceo file\n",
    "Load original file created by G. Gonzalez (UAH):\n",
    "- ALPAO_BAX449.ceo"
   ]
  },
  {
   "cell_type": "code",
   "execution_count": 2,
   "metadata": {},
   "outputs": [],
   "source": [
    "#-- remove current link to whatever file it points.\n",
    "os.remove('/home/ubuntu/CEO/gmtMirrors/ALPAO_BAX449.ceo') \n",
    "\n",
    "#-- Create link to the original file we got from Gillermo Gonzalez (UAH)\n",
    "os.symlink('/home/ubuntu/CEO/python/ceo/wfpt/WFPT_model_data/alpao_dm_ifs/ALPAO_BAX449.ceo', '/home/ubuntu/CEO/gmtMirrors/ALPAO_BAX449.ceo')"
   ]
  },
  {
   "cell_type": "code",
   "execution_count": 2,
   "metadata": {},
   "outputs": [
    {
     "data": {
      "text/plain": [
       "OrderedDict([('Ni', 116),\n",
       "             ('L', 0.0265),\n",
       "             ('N_SET', 1),\n",
       "             ('N_MODE', 292),\n",
       "             ('s2b', array([0, 0, 0, 0, 0, 0, 0], dtype=int32)),\n",
       "             ('M', array([ 0.,  0.,  0., ...,  0., -0., -0.]))])"
      ]
     },
     "execution_count": 2,
     "metadata": {},
     "output_type": "execute_result"
    }
   ],
   "source": [
    "maps = Mapping()\n",
    "maps.load(\"ALPAO_BAX449\")\n",
    "maps.suit"
   ]
  },
  {
   "cell_type": "code",
   "execution_count": 3,
   "metadata": {},
   "outputs": [
    {
     "data": {
      "text/plain": [
       "(292, 116, 116)"
      ]
     },
     "execution_count": 3,
     "metadata": {},
     "output_type": "execute_result"
    }
   ],
   "source": [
    "nmodes = maps.suit['N_MODE']\n",
    "ni = int(maps.suit['Ni'])\n",
    "modes = maps.suit[\"M\"].reshape(-1,ni,ni)\n",
    "modes.shape"
   ]
  },
  {
   "cell_type": "code",
   "execution_count": 7,
   "metadata": {},
   "outputs": [
    {
     "data": {
      "text/plain": [
       "<matplotlib.colorbar.Colorbar at 0x7f52c3695400>"
      ]
     },
     "execution_count": 7,
     "metadata": {},
     "output_type": "execute_result"
    },
    {
     "data": {
      "image/png": "[encoded data removed]",
      "text/plain": [
       "<Figure size 432x288 with 2 Axes>"
      ]
     },
     "metadata": {
      "needs_background": "light"
     },
     "output_type": "display_data"
    }
   ],
   "source": [
    "fig, ax = plt.subplots()\n",
    "h = ax.imshow(modes[15,...], origin='lower')\n",
    "fig.colorbar(h,ax=ax)"
   ]
  },
  {
   "cell_type": "markdown",
   "metadata": {},
   "source": [
    "## Apply the required transformations\n",
    "Rotate DM1 grid by 90 deg to match new 2024 actuator numbering scheme."
   ]
  },
  {
   "cell_type": "code",
   "execution_count": 6,
   "metadata": {},
   "outputs": [],
   "source": [
    "new_modes = np.zeros(modes.shape)\n",
    "for jj in range(nmodes):\n",
    "    new_modes[jj,...] = np.rot90(modes[jj,...], k=1)"
   ]
  },
  {
   "cell_type": "code",
   "execution_count": 7,
   "metadata": {},
   "outputs": [
    {
     "data": {
      "text/plain": [
       "<matplotlib.colorbar.Colorbar at 0x7fdc52c6cc70>"
      ]
     },
     "execution_count": 7,
     "metadata": {},
     "output_type": "execute_result"
    },
    {
     "data": {
      "image/png": "[encoded data removed]",
      "text/plain": [
       "<Figure size 432x288 with 2 Axes>"
      ]
     },
     "metadata": {
      "needs_background": "light"
     },
     "output_type": "display_data"
    }
   ],
   "source": [
    "fig, ax = plt.subplots()\n",
    "h = ax.imshow(new_modes[17,...], origin='lower')\n",
    "fig.colorbar(h,ax=ax)"
   ]
  },
  {
   "cell_type": "markdown",
   "metadata": {},
   "source": [
    "## Save new DM1 IF file"
   ]
  },
  {
   "cell_type": "code",
   "execution_count": 8,
   "metadata": {},
   "outputs": [],
   "source": [
    "maps.suit['M'] = new_modes.flatten()\n",
    "maps.dump(\"/home/ubuntu/CEO/python/ceo/wfpt/WFPT_model_data/alpao_dm_ifs/ALPAO_BAX449_rot90\")"
   ]
  },
  {
   "cell_type": "code",
   "execution_count": 9,
   "metadata": {},
   "outputs": [],
   "source": [
    "#-- remove current link to whatever file it points.\n",
    "os.remove('/home/ubuntu/CEO/gmtMirrors/ALPAO_BAX449.ceo')\n",
    "\n",
    "#-- Create link to the new file\n",
    "os.symlink('/home/ubuntu/CEO/python/ceo/wfpt/WFPT_model_data/alpao_dm_ifs/ALPAO_BAX449_rot90.ceo', '/home/ubuntu/CEO/gmtMirrors/ALPAO_BAX449.ceo')"
   ]
  },
  {
   "cell_type": "markdown",
   "metadata": {},
   "source": [
    "# DM2 adjustments"
   ]
  },
  {
   "cell_type": "markdown",
   "metadata": {},
   "source": [
    "## Load original .ceo file\n",
    "Load original file created by G. Gonzalez (UAH):\n",
    "- ALPAO_BAX450.ceo"
   ]
  },
  {
   "cell_type": "code",
   "execution_count": 8,
   "metadata": {},
   "outputs": [],
   "source": [
    "#-- remove current link to whatever file it points.\n",
    "os.remove('/home/ubuntu/CEO/gmtMirrors/ALPAO_BAX450.ceo') \n",
    "\n",
    "#-- Create link to the original file we got from Gillermo Gonzalez (UAH)\n",
    "os.symlink('/home/ubuntu/CEO/python/ceo/wfpt/WFPT_model_data/alpao_dm_ifs/ALPAO_BAX450.ceo', '/home/ubuntu/CEO/gmtMirrors/ALPAO_BAX450.ceo')"
   ]
  },
  {
   "cell_type": "code",
   "execution_count": 9,
   "metadata": {},
   "outputs": [
    {
     "data": {
      "text/plain": [
       "OrderedDict([('Ni', 116),\n",
       "             ('L', 0.0265),\n",
       "             ('N_SET', 1),\n",
       "             ('N_MODE', 292),\n",
       "             ('s2b', array([0, 0, 0, 0, 0, 0, 0], dtype=int32)),\n",
       "             ('M', array([-0., -0., -0., ..., -0., -0., -0.]))])"
      ]
     },
     "execution_count": 9,
     "metadata": {},
     "output_type": "execute_result"
    }
   ],
   "source": [
    "maps = Mapping()\n",
    "maps.load(\"ALPAO_BAX450\")\n",
    "maps.suit"
   ]
  },
  {
   "cell_type": "code",
   "execution_count": 10,
   "metadata": {},
   "outputs": [
    {
     "data": {
      "text/plain": [
       "(292, 116, 116)"
      ]
     },
     "execution_count": 10,
     "metadata": {},
     "output_type": "execute_result"
    }
   ],
   "source": [
    "nmodes = maps.suit['N_MODE']\n",
    "ni = int(maps.suit['Ni'])\n",
    "modes = maps.suit[\"M\"].reshape(-1,ni,ni)\n",
    "modes.shape"
   ]
  },
  {
   "cell_type": "code",
   "execution_count": 11,
   "metadata": {},
   "outputs": [
    {
     "data": {
      "text/plain": [
       "<matplotlib.colorbar.Colorbar at 0x7f52c183d850>"
      ]
     },
     "execution_count": 11,
     "metadata": {},
     "output_type": "execute_result"
    },
    {
     "data": {
      "image/png": "[encoded data removed]",
      "text/plain": [
       "<Figure size 432x288 with 2 Axes>"
      ]
     },
     "metadata": {
      "needs_background": "light"
     },
     "output_type": "display_data"
    }
   ],
   "source": [
    "fig, ax = plt.subplots()\n",
    "h = ax.imshow(modes[15,...], origin='lower')\n",
    "fig.colorbar(h,ax=ax)"
   ]
  },
  {
   "cell_type": "markdown",
   "metadata": {},
   "source": [
    "## Apply the required transformations\n",
    "1. Rotate DM1 grid by 90 deg to match new 2024 actuator numbering scheme."
   ]
  },
  {
   "cell_type": "code",
   "execution_count": 12,
   "metadata": {},
   "outputs": [],
   "source": [
    "new_modes = np.zeros(modes.shape)\n",
    "for jj in range(nmodes):\n",
    "    new_modes[jj,...] = np.rot90(modes[jj,...], k=1)"
   ]
  },
  {
   "cell_type": "code",
   "execution_count": 14,
   "metadata": {},
   "outputs": [
    {
     "data": {
      "text/plain": [
       "<matplotlib.colorbar.Colorbar at 0x7f52bf904580>"
      ]
     },
     "execution_count": 14,
     "metadata": {},
     "output_type": "execute_result"
    },
    {
     "data": {
      "image/png": "[encoded data removed]",
      "text/plain": [
       "<Figure size 432x288 with 2 Axes>"
      ]
     },
     "metadata": {
      "needs_background": "light"
     },
     "output_type": "display_data"
    }
   ],
   "source": [
    "fig, ax = plt.subplots()\n",
    "h = ax.imshow(new_modes[15,...], origin='lower')\n",
    "fig.colorbar(h,ax=ax)"
   ]
  },
  {
   "cell_type": "markdown",
   "metadata": {},
   "source": [
    "2. Apply a flip across the horizontal axis to match relative orientation of GMT pupil imaged on DM2"
   ]
  },
  {
   "cell_type": "code",
   "execution_count": 15,
   "metadata": {},
   "outputs": [],
   "source": [
    "new_modes_2 = np.flip(new_modes, axis=1)"
   ]
  },
  {
   "cell_type": "code",
   "execution_count": 16,
   "metadata": {},
   "outputs": [
    {
     "data": {
      "text/plain": [
       "<matplotlib.colorbar.Colorbar at 0x7f52bf821850>"
      ]
     },
     "execution_count": 16,
     "metadata": {},
     "output_type": "execute_result"
    },
    {
     "data": {
      "image/png": "[encoded data removed]",
      "text/plain": [
       "<Figure size 432x288 with 2 Axes>"
      ]
     },
     "metadata": {
      "needs_background": "light"
     },
     "output_type": "display_data"
    }
   ],
   "source": [
    "fig, ax = plt.subplots()\n",
    "h = ax.imshow(new_modes_2[15,...], origin='lower')\n",
    "fig.colorbar(h,ax=ax)"
   ]
  },
  {
   "cell_type": "markdown",
   "metadata": {},
   "source": [
    "## Save new DM2 IF file"
   ]
  },
  {
   "cell_type": "code",
   "execution_count": 18,
   "metadata": {},
   "outputs": [],
   "source": [
    "maps.suit['M'] = new_modes_2.flatten()\n",
    "maps.dump(\"/home/ubuntu/CEO/python/ceo/wfpt/WFPT_model_data/alpao_dm_ifs/ALPAO_BAX450_rot90_flipOverX\")"
   ]
  },
  {
   "cell_type": "code",
   "execution_count": 17,
   "metadata": {},
   "outputs": [],
   "source": [
    "#-- remove current link to whatever file it points.\n",
    "os.remove('/home/ubuntu/CEO/gmtMirrors/ALPAO_BAX450.ceo')\n",
    "\n",
    "#-- Create link to the new file\n",
    "os.symlink('/home/ubuntu/CEO/python/ceo/wfpt/WFPT_model_data/alpao_dm_ifs/ALPAO_BAX450_rot90_flipOverX.ceo', '/home/ubuntu/CEO/gmtMirrors/ALPAO_BAX450.ceo')"
   ]
  },
  {
   "cell_type": "code",
   "execution_count": null,
   "metadata": {},
   "outputs": [],
   "source": []
  }
 ],
 "metadata": {
  "kernelspec": {
   "display_name": "Python 3",
   "language": "python",
   "name": "python3"
  },
  "language_info": {
   "codemirror_mode": {
    "name": "ipython",
    "version": 3
   },
   "file_extension": ".py",
   "mimetype": "text/x-python",
   "name": "python",
   "nbconvert_exporter": "python",
   "pygments_lexer": "ipython3",
   "version": "3.8.8"
  }
 },
 "nbformat": 4,
 "nbformat_minor": 4
}

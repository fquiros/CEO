{
 "cells": [
  {
   "cell_type": "markdown",
   "metadata": {},
   "source": [
    "# Laser Tomography"
   ]
  },
  {
   "cell_type": "markdown",
   "metadata": {},
   "source": [
    "Phase screens are computed with an `Atmosphere` and a `Source` object.\n",
    "Lets import the `ceo` module first."
   ]
  },
  {
   "cell_type": "code",
   "execution_count": 1,
   "metadata": {
    "collapsed": false,
    "jupyter": {
     "outputs_hidden": false
    }
   },
   "outputs": [
    {
     "name": "stdout",
     "output_type": "stream",
     "text": [
      "Populating the interactive namespace from numpy and matplotlib\n"
     ]
    }
   ],
   "source": [
    "import math\n",
    "import numpy as np\n",
    "import ceo\n",
    "%pylab inline"
   ]
  },
  {
   "cell_type": "markdown",
   "metadata": {},
   "source": [
    "The atmosphere is defined with"
   ]
  },
  {
   "cell_type": "code",
   "execution_count": 2,
   "metadata": {},
   "outputs": [],
   "source": [
    "atm =  ceo.GmtAtmosphere(0.15,60)"
   ]
  },
  {
   "cell_type": "markdown",
   "metadata": {},
   "source": [
    "A constellation of 6 Laser guide stars evenly located on a 1 arcmin diameter circle is defined first,"
   ]
  },
  {
   "cell_type": "code",
   "execution_count": 3,
   "metadata": {},
   "outputs": [],
   "source": [
    "NL = 60\n",
    "NA = NL+1\n",
    "lgs = ceo.Source(\"V\",\n",
    "                 zenith=np.ones(6)*30*math.pi/180/3600,\n",
    "                 azimuth=np.linspace(0,5,6)*2*math.pi/6,\n",
    "                 height = 90e3,\n",
    "                 resolution=(NA,NA))"
   ]
  },
  {
   "cell_type": "markdown",
   "metadata": {},
   "source": [
    "The telescope pupil is defined as the Giant Magellan Telescope and mask for the deformable mirror actuators is also set."
   ]
  },
  {
   "cell_type": "code",
   "execution_count": 4,
   "metadata": {},
   "outputs": [],
   "source": [
    "D = 25.5\n",
    "#tel = ceo.Telescope(NL*16)\n",
    "#dm  = ceo.Telescope(NA)\n",
    "tel = ceo.GMT(NL*16,D)\n",
    "dm  = ceo.Mask(NA,D)"
   ]
  },
  {
   "cell_type": "markdown",
   "metadata": {},
   "source": [
    "A `Centroiding` object is defined, it will contains the phase screen gradient corresponding to the LGS.\n",
    "The `fried_geometry` method computes the DM valid actuator mask according to the telescope pupil shape and the given intensity `threshlod`.\n",
    "The `lgs` `Source` object is masked with the dm mask."
   ]
  },
  {
   "cell_type": "code",
   "execution_count": 5,
   "metadata": {},
   "outputs": [],
   "source": [
    "d = D/NL\n",
    "cog = ceo.Centroiding(NL,N_SOURCE=lgs.size)\n",
    "cog.fried_geometry(dm, tel, 16, 0.5)\n",
    "lgs.masked(dm)"
   ]
  },
  {
   "cell_type": "code",
   "execution_count": 6,
   "metadata": {},
   "outputs": [],
   "source": [
    "dm_mask = dm.f"
   ]
  },
  {
   "cell_type": "markdown",
   "metadata": {},
   "source": [
    "The phase screen gradient is computed with the `Atmosphere` method `get_phase_screen_gradient`.\n",
    "The gradient is computed over a square lenslet array of size $N_L \\times N_L$ with $d$ the pitch in meter.\n",
    "The phase screen gradient is computed for a given `Source` object that contains one or more guide stars.\n",
    "The phase screen gradient can be computed for a given time delay.\n",
    "The $c_x$ and $c_y$ centroids are saved in a `Centroiding` object."
   ]
  },
  {
   "cell_type": "code",
   "execution_count": 7,
   "metadata": {},
   "outputs": [],
   "source": [
    "atm.get_phase_screen_gradient(cog,NL,d,lgs,0.0)\n",
    "c = cog.c.host(units='arcsec')"
   ]
  },
  {
   "cell_type": "code",
   "execution_count": 8,
   "metadata": {
    "collapsed": false,
    "jupyter": {
     "outputs_hidden": false
    }
   },
   "outputs": [
    {
     "data": {
      "text/plain": [
       "<matplotlib.image.AxesImage at 0x7f7675113d30>"
      ]
     },
     "execution_count": 8,
     "metadata": {},
     "output_type": "execute_result"
    },
    {
     "data": {
      "image/png": "[encoded data removed]",
      "text/plain": [
       "<Figure size 432x288 with 1 Axes>"
      ]
     },
     "metadata": {
      "needs_background": "light"
     },
     "output_type": "display_data"
    }
   ],
   "source": [
    "imshow(c.reshape(NL*lgs.size*2,NL).transpose(),interpolation='none')\n",
    "#ceog.heatmap(c.reshape(NL*6*2,NL).transpose(), filename=PLOTLY_PATH+\"wavefront gradient\")"
   ]
  },
  {
   "cell_type": "markdown",
   "metadata": {},
   "source": [
    "The on-axis source is defined and is propagated throught the atmosphere:"
   ]
  },
  {
   "cell_type": "code",
   "execution_count": 9,
   "metadata": {},
   "outputs": [],
   "source": [
    "src = ceo.Source(\"K\",resolution=(NA,NA))\n",
    "src.masked(dm)\n",
    "atm.get_phase_screen(src,d,NA,d,NA,0.0)"
   ]
  },
  {
   "cell_type": "markdown",
   "metadata": {},
   "source": [
    "From the phase gradient, the phase screen can be reconstructed with a linear minimim mean square error reconstructor (LMMSE).\n",
    "A `Lmmse` object is used to perform the phase estimation.\n",
    "The parameters are:\n",
    "- an `Atmosphere` object,\n",
    "- a `Source` object representing the guide star(s),\n",
    "- a `Source` object representing the star(s) in the estimation direction(s),\n",
    "- the wavefront sampling step in meter,\n",
    "- the number of sample across the wavefront,\n",
    "- a `Mask` object representing the pupil,\n",
    "- the iterative solver."
   ]
  },
  {
   "cell_type": "code",
   "execution_count": 10,
   "metadata": {
    "collapsed": false,
    "jupyter": {
     "outputs_hidden": false
    }
   },
   "outputs": [
    {
     "name": "stdout",
     "output_type": "stream",
     "text": [
      "ET = 11082.15ms\n"
     ]
    }
   ],
   "source": [
    "et = ceo.StopWatch()\n",
    "et.tic()\n",
    "src_lmmse = ceo.Lmmse(atm,lgs,src,d,NL,dm,\"MINRES\")\n",
    "et.toc()\n",
    "print(\"ET = %.2fms\"%et.elapsedTime)"
   ]
  },
  {
   "cell_type": "code",
   "execution_count": 11,
   "metadata": {
    "collapsed": false,
    "jupyter": {
     "outputs_hidden": false
    }
   },
   "outputs": [
    {
     "name": "stdout",
     "output_type": "stream",
     "text": [
      "ET = 32.45ms\n"
     ]
    }
   ],
   "source": [
    "et.tic()\n",
    "src_lmmse.reset()\n",
    "src_lmmse.estimation(cog)\n",
    "et.toc()\n",
    "src_phase = src.phase\n",
    "src_lmmse_phase = src_lmmse.phase\n",
    "print(\"ET = %.2fms\"%et.elapsedTime)"
   ]
  },
  {
   "cell_type": "code",
   "execution_count": 12,
   "metadata": {
    "collapsed": false,
    "jupyter": {
     "outputs_hidden": false
    }
   },
   "outputs": [
    {
     "name": "stdout",
     "output_type": "stream",
     "text": [
      "wavefront error: 118.28nm\n"
     ]
    }
   ],
   "source": [
    "ps_e = src_lmmse_phase.host(units='micron',\n",
    "                            zm=True,mask=dm_mask.host()) - src_phase.host(units='micron',zm=True,mask=dm_mask.host_data)\n",
    "print(\"wavefront error: %6.2fnm\" % (np.std(ps_e[dm_mask.host_data.reshape((NA,NA))!=0])*1e3))"
   ]
  },
  {
   "cell_type": "code",
   "execution_count": 13,
   "metadata": {
    "collapsed": false,
    "jupyter": {
     "outputs_hidden": false
    }
   },
   "outputs": [
    {
     "data": {
      "text/plain": [
       "<matplotlib.colorbar.Colorbar at 0x7f767506f790>"
      ]
     },
     "execution_count": 13,
     "metadata": {},
     "output_type": "execute_result"
    },
    {
     "data": {
      "image/png": "[encoded data removed]",
      "text/plain": [
       "<Figure size 432x288 with 2 Axes>"
      ]
     },
     "metadata": {
      "needs_background": "light"
     },
     "output_type": "display_data"
    }
   ],
   "source": [
    "imshow(np.concatenate((src_phase.host_data, src_lmmse_phase.host_data),axis=1),\n",
    "             interpolation='none')\n",
    "colorbar()"
   ]
  },
  {
   "cell_type": "code",
   "execution_count": 14,
   "metadata": {
    "collapsed": false,
    "jupyter": {
     "outputs_hidden": false
    }
   },
   "outputs": [
    {
     "data": {
      "text/plain": [
       "<matplotlib.colorbar.Colorbar at 0x7f7674f94a90>"
      ]
     },
     "execution_count": 14,
     "metadata": {},
     "output_type": "execute_result"
    },
    {
     "data": {
      "image/png": "[encoded data removed]",
      "text/plain": [
       "<Figure size 432x288 with 2 Axes>"
      ]
     },
     "metadata": {
      "needs_background": "light"
     },
     "output_type": "display_data"
    }
   ],
   "source": [
    "imshow(ps_e*1e3,interpolation='none')\n",
    "colorbar()"
   ]
  },
  {
   "cell_type": "code",
   "execution_count": null,
   "metadata": {
    "collapsed": true,
    "jupyter": {
     "outputs_hidden": true
    }
   },
   "outputs": [],
   "source": []
  }
 ],
 "metadata": {
  "kernelspec": {
   "display_name": "Python 3",
   "language": "python",
   "name": "python3"
  },
  "language_info": {
   "codemirror_mode": {
    "name": "ipython",
    "version": 3
   },
   "file_extension": ".py",
   "mimetype": "text/x-python",
   "name": "python",
   "nbconvert_exporter": "python",
   "pygments_lexer": "ipython3",
   "version": "3.8.3"
  }
 },
 "nbformat": 4,
 "nbformat_minor": 4
}
